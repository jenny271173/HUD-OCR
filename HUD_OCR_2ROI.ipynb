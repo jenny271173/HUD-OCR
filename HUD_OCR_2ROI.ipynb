{
 "cells": [
  {
   "cell_type": "code",
   "execution_count": 1,
   "id": "e8971495-a033-4123-9117-1d9b5516d661",
   "metadata": {},
   "outputs": [],
   "source": [
    "# Import necessary libraries and packages\n",
    "import cv2\n",
    "import pytesseract\n",
    "import re\n",
    "import pandas as pd\n",
    "import numpy as np"
   ]
  },
  {
   "cell_type": "code",
   "execution_count": 2,
   "id": "c546ed2c-cd0a-43c4-9eea-15857dab94db",
   "metadata": {},
   "outputs": [],
   "source": [
    "# Pytesseract\n",
    "pytesseract.pytesseract.tesseract_cmd = \"/usr/local/bin/tesseract\"\n",
    "\n",
    "# File path for video\n",
    "# Video from https://www.youtube.com/watch?v=WkZGL7RQBVw&ab_channel=AviationWeek\n",
    "video = \"/Users/jenniferdoan/Desktop/Shortened.mp4\""
   ]
  },
  {
   "cell_type": "code",
   "execution_count": 3,
   "id": "bc0dcef3-ce31-49ca-8efd-5755fc2e30c1",
   "metadata": {},
   "outputs": [],
   "source": [
    "# Preprocess the frame\n",
    "def preprocess_frame(frame):\n",
    "    gray = cv2.cvtColor(frame, cv2.COLOR_BGR2GRAY)\n",
    "    blur = cv2.GaussianBlur(gray, (5, 5), 0)\n",
    "    equalized = cv2.equalizeHist(blur)\n",
    "    thresh = cv2.threshold(equalized, 0, 255, cv2.THRESH_BINARY_INV + cv2.THRESH_OTSU)[1]\n",
    "    kernel = cv2.getStructuringElement(cv2.MORPH_RECT, (3, 3))\n",
    "    opening = cv2.morphologyEx(thresh, cv2.MORPH_OPEN, kernel, iterations=1)\n",
    "    closing = cv2.morphologyEx(opening, cv2.MORPH_CLOSE, kernel, iterations=2)\n",
    "    return closing"
   ]
  },
  {
   "cell_type": "code",
   "execution_count": 4,
   "id": "ebcff0ef-7d14-423a-9e00-b61ef7e989a8",
   "metadata": {},
   "outputs": [],
   "source": [
    "# Run OCR on the video frames for the specified ROI\n",
    "# inspired by https://pyimagesearch.com/2018/08/20/opencv-text-detection-east-text-detector/\n",
    "# Note to define ROI's: \n",
    "# x = move left/right, y = move up/down\n",
    "# w = width box, h = height box\n",
    "def run_OCR(filename, ROI, num_frames):\n",
    "    cap = cv2.VideoCapture(filename)\n",
    "    numbers_array = []\n",
    "    frame_count = 0\n",
    "    exit = False \n",
    "    \n",
    "    while cap.isOpened() and not exit:\n",
    "        ret, frame = cap.read()\n",
    "        if ret:\n",
    "            frame_count += 1\n",
    "            \n",
    "            if frame_count % num_frames == 0:\n",
    "                for ROI_name, (x, y, w, h) in ROI.items():\n",
    "                    roi = frame[y:y+h, x:x+w]\n",
    "                    cv2.rectangle(frame, (x, y), (x+w, y+h), (0, 255, 0), 2)\n",
    "                    preprocessed = preprocess_frame(roi)\n",
    "                    text = pytesseract.image_to_string(preprocessed, config='')\n",
    "                    numbers = re.findall(r'\\d+', text)\n",
    "                    \n",
    "                    if text:\n",
    "                        print(text)\n",
    "                \n",
    "                    # Append the numbers to the array\n",
    "                    if numbers:\n",
    "                        numbers_array.append(numbers)\n",
    "                    \n",
    "                    # Display the numbers on the frame\n",
    "                    cv2.putText(frame, ','.join(numbers), (x, y-10), cv2.FONT_HERSHEY_SIMPLEX, 0.5, (0, 0, 255), 2)\n",
    "                \n",
    "                cv2.imshow('Frame', frame)\n",
    "            \n",
    "            if cv2.waitKey(1) == ord('q'):\n",
    "                exit = True \n",
    "                \n",
    "        else:\n",
    "            break\n",
    "\n",
    "    cap.release()\n",
    "    cv2.destroyAllWindows()\n",
    "    \n",
    "    return numbers_array"
   ]
  },
  {
   "cell_type": "code",
   "execution_count": 5,
   "id": "c0c8bbf9-e9d0-45f3-84e2-d042f7b7abcb",
   "metadata": {
    "tags": []
   },
   "outputs": [
    {
     "name": "stdout",
     "output_type": "stream",
     "text": [
      "295.80\n",
      "\n",
      "295.80\n",
      "\n",
      "295.80\n",
      "\n",
      "293.80\n",
      "\n",
      "293.80\n",
      "\n",
      "295.80\n",
      "\n",
      "JAC BUL\n",
      "\n",
      "JAC BUL\n",
      "\n",
      "JAC BL.\n",
      "\n",
      "JAC SUL\n",
      "\n",
      "PCRL\n",
      "\n",
      "JOC RU.\n",
      "\n",
      "JOC DA.\n",
      "\n",
      "JAC BU.\n",
      "\n",
      "JAC BLL.\n",
      "\n",
      "JAC BUL\n",
      "\n",
      "[['295', '80'], ['295', '80'], ['295', '80'], ['293', '80'], ['293', '80'], ['295', '80']]\n",
      "[]\n"
     ]
    }
   ],
   "source": [
    "if __name__ == \"__main__\":\n",
    "    ROI = {\n",
    "        'ROI 1': (525, 540, 95, 35)\n",
    "    }\n",
    "    result = run_OCR(video, ROI, num_frames=10)\n",
    "    \n",
    "    ROI_2 = {\n",
    "        'ROI 2': (630, 540, 95, 35)\n",
    "    }\n",
    "    result_2 = run_OCR(video, ROI_2, num_frames=10)\n",
    "    \n",
    "print(result)\n",
    "print(result_2)"
   ]
  }
 ],
 "metadata": {
  "kernelspec": {
   "display_name": "Python 3 (ipykernel)",
   "language": "python",
   "name": "python3"
  },
  "language_info": {
   "codemirror_mode": {
    "name": "ipython",
    "version": 3
   },
   "file_extension": ".py",
   "mimetype": "text/x-python",
   "name": "python",
   "nbconvert_exporter": "python",
   "pygments_lexer": "ipython3",
   "version": "3.10.9"
  }
 },
 "nbformat": 4,
 "nbformat_minor": 5
}
